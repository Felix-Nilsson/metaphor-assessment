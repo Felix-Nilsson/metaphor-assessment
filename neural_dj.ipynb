{
 "cells": [
  {
   "cell_type": "markdown",
   "metadata": {},
   "source": [
    "# Neural DJ\n",
    "\n",
    "---"
   ]
  },
  {
   "cell_type": "markdown",
   "metadata": {},
   "source": [
    "### Importing metaphor"
   ]
  },
  {
   "cell_type": "code",
   "execution_count": 3,
   "metadata": {},
   "outputs": [
    {
     "name": "stdout",
     "output_type": "stream",
     "text": [
      "Defaulting to user installation because normal site-packages is not writeable\n",
      "Collecting metaphor-python\n",
      "  Using cached metaphor_python-0.1.16-py3-none-any.whl (4.5 kB)\n",
      "Requirement already satisfied: requests in /home/felix/.local/lib/python3.10/site-packages (from metaphor-python) (2.31.0)\n",
      "Requirement already satisfied: charset-normalizer<4,>=2 in /home/felix/.local/lib/python3.10/site-packages (from requests->metaphor-python) (3.1.0)\n",
      "Requirement already satisfied: certifi>=2017.4.17 in /usr/lib/python3/dist-packages (from requests->metaphor-python) (2020.6.20)\n",
      "Requirement already satisfied: idna<4,>=2.5 in /home/felix/.local/lib/python3.10/site-packages (from requests->metaphor-python) (2.10)\n",
      "Requirement already satisfied: urllib3<3,>=1.21.1 in /usr/lib/python3/dist-packages (from requests->metaphor-python) (1.26.5)\n",
      "Installing collected packages: metaphor-python\n",
      "Successfully installed metaphor-python-0.1.16\n",
      "Note: you may need to restart the kernel to use updated packages.\n"
     ]
    }
   ],
   "source": [
    "%pip install metaphor-python"
   ]
  },
  {
   "cell_type": "markdown",
   "metadata": {},
   "source": [
    "### Fetch the key \n",
    "Notebooks dont like os.getenv apparently, so I stored my key in a file that local file that is not pushed to github"
   ]
  },
  {
   "cell_type": "code",
   "execution_count": 12,
   "metadata": {},
   "outputs": [],
   "source": [
    "with open('key.txt', 'r') as file:\n",
    "    METAPHOR_API_KEY = file.readline().strip()"
   ]
  },
  {
   "cell_type": "markdown",
   "metadata": {},
   "source": [
    "### Imports"
   ]
  },
  {
   "cell_type": "code",
   "execution_count": 20,
   "metadata": {},
   "outputs": [],
   "source": [
    "from metaphor_python import Metaphor\n",
    "\n",
    "metaphor = Metaphor(METAPHOR_API_KEY)\n"
   ]
  },
  {
   "cell_type": "markdown",
   "metadata": {},
   "source": [
    "### Define the query function"
   ]
  },
  {
   "cell_type": "code",
   "execution_count": 15,
   "metadata": {},
   "outputs": [],
   "source": [
    "def run_query(starting_point):\n",
    "    # \"storken - lille vals\" is an electronic 80s inspired synth track\n",
    "    if starting_point == \"\":\n",
    "        starting_point = \"storken - lille vals\"\n",
    "\n",
    "    print(f\"\\nConstructing playlist starting from: \\\"{starting_point}\\\" ...\\n\")\n",
    "\n",
    "    domains = [\"youtube.com\"]\n",
    "\n",
    "    starting_point_url = metaphor.search(\n",
    "    f\"{starting_point}\",\n",
    "    num_results=1,\n",
    "    include_domains=domains,\n",
    "    use_autoprompt=True,\n",
    "    type=\"keyword\",\n",
    "    ).results[0].url\n",
    "\n",
    "    url = starting_point_url\n",
    "    for i in range(5):\n",
    "        response = metaphor.find_similar(\n",
    "                f\"{url}\",\n",
    "                num_results=3,\n",
    "                include_domains=domains,\n",
    "            ).results[2] #pick the third one\n",
    "        url = response.url\n",
    "\n",
    "        print(f\"Track {i+1}\\n\\tTitle: {response.title}\\n\\turl: {url}\\n\")"
   ]
  },
  {
   "cell_type": "markdown",
   "metadata": {},
   "source": [
    "### Run some examples"
   ]
  },
  {
   "cell_type": "markdown",
   "metadata": {},
   "source": [
    "A nice example that works as intended"
   ]
  },
  {
   "cell_type": "code",
   "execution_count": 16,
   "metadata": {},
   "outputs": [
    {
     "name": "stdout",
     "output_type": "stream",
     "text": [
      "\n",
      "Constructing playlist starting from: \"storken - lille vals\" ...\n",
      "\n",
      "Track 1\n",
      "\tTitle: Chris Stussy - Synchronicity\n",
      "\turl: https://www.youtube.com/watch?v=EOTHFTJGU4c\n",
      "\n",
      "Track 2\n",
      "\tTitle: Well Kept Secret - Echoes\n",
      "\turl: https://www.youtube.com/watch?v=e2g3CBp-CCk&feature=youtu.be\n",
      "\n",
      "Track 3\n",
      "\tTitle: Artera - La Revedere\n",
      "\turl: https://www.youtube.com/watch?v=Kdt9SIcYyh0&feature=youtu.be\n",
      "\n",
      "Track 4\n",
      "\tTitle: Ophidian - The Phoenix\n",
      "\turl: https://www.youtube.com/watch?v=8AFuFFpMXT4\n",
      "\n",
      "Track 5\n",
      "\tTitle: Ophidian - The Phoenix [Official Video]\n",
      "\turl: https://www.youtube.com/watch?v=llBaip0fkBY\n",
      "\n"
     ]
    }
   ],
   "source": [
    "run_query(\"\")"
   ]
  },
  {
   "cell_type": "markdown",
   "metadata": {},
   "source": [
    "An unfortunate example, where we get duplicate songs despite picking the third one every time"
   ]
  },
  {
   "cell_type": "code",
   "execution_count": 17,
   "metadata": {},
   "outputs": [
    {
     "name": "stdout",
     "output_type": "stream",
     "text": [
      "\n",
      "Constructing playlist starting from: \"blur song 2\" ...\n",
      "\n",
      "Track 1\n",
      "\tTitle: Blur - Beetlebum (Official Music Video)\n",
      "\turl: https://www.youtube.com/watch?v=WAXnqjUfal4\n",
      "\n",
      "Track 2\n",
      "\tTitle: Blur - Beetlebum (Jools Holland 1997)\n",
      "\turl: https://www.youtube.com/watch?feature=player_detailpage&v=khn9c_-lLAw\n",
      "\n",
      "Track 3\n",
      "\tTitle: Blur - Beetlebum (Official Music Video)\n",
      "\turl: https://www.youtube.com/watch?v=WAXnqjUfal4\n",
      "\n",
      "Track 4\n",
      "\tTitle: Blur - Beetlebum (Jools Holland 1997)\n",
      "\turl: https://www.youtube.com/watch?feature=player_detailpage&v=khn9c_-lLAw\n",
      "\n",
      "Track 5\n",
      "\tTitle: Blur - Beetlebum (Official Music Video)\n",
      "\turl: https://www.youtube.com/watch?v=WAXnqjUfal4\n",
      "\n"
     ]
    }
   ],
   "source": [
    "run_query(\"blur song 2\")"
   ]
  },
  {
   "cell_type": "markdown",
   "metadata": {},
   "source": [
    "An even more unfortunate example, where the search does not succeed at all"
   ]
  },
  {
   "cell_type": "code",
   "execution_count": 19,
   "metadata": {},
   "outputs": [
    {
     "name": "stdout",
     "output_type": "stream",
     "text": [
      "\n",
      "Constructing playlist starting from: \"daft punk - one more time\" ...\n",
      "\n"
     ]
    },
    {
     "ename": "IndexError",
     "evalue": "list index out of range",
     "output_type": "error",
     "traceback": [
      "\u001b[0;31m---------------------------------------------------------------------------\u001b[0m",
      "\u001b[0;31mIndexError\u001b[0m                                Traceback (most recent call last)",
      "\u001b[1;32m/home/felix/work/metaphor/metaphor-assessment/neural_dj.ipynb Cell 11\u001b[0m line \u001b[0;36m1\n\u001b[0;32m----> <a href='vscode-notebook-cell:/home/felix/work/metaphor/metaphor-assessment/neural_dj.ipynb#X14sZmlsZQ%3D%3D?line=0'>1</a>\u001b[0m run_query(\u001b[39m\"\u001b[39;49m\u001b[39mdaft punk - one more time\u001b[39;49m\u001b[39m\"\u001b[39;49m)\n",
      "\u001b[1;32m/home/felix/work/metaphor/metaphor-assessment/neural_dj.ipynb Cell 11\u001b[0m line \u001b[0;36m1\n\u001b[1;32m      <a href='vscode-notebook-cell:/home/felix/work/metaphor/metaphor-assessment/neural_dj.ipynb#X14sZmlsZQ%3D%3D?line=5'>6</a>\u001b[0m \u001b[39mprint\u001b[39m(\u001b[39mf\u001b[39m\u001b[39m\"\u001b[39m\u001b[39m\\n\u001b[39;00m\u001b[39mConstructing playlist starting from: \u001b[39m\u001b[39m\\\"\u001b[39;00m\u001b[39m{\u001b[39;00mstarting_point\u001b[39m}\u001b[39;00m\u001b[39m\\\"\u001b[39;00m\u001b[39m ...\u001b[39m\u001b[39m\\n\u001b[39;00m\u001b[39m\"\u001b[39m)\n\u001b[1;32m      <a href='vscode-notebook-cell:/home/felix/work/metaphor/metaphor-assessment/neural_dj.ipynb#X14sZmlsZQ%3D%3D?line=7'>8</a>\u001b[0m domains \u001b[39m=\u001b[39m [\u001b[39m\"\u001b[39m\u001b[39myoutube.com\u001b[39m\u001b[39m\"\u001b[39m]\n\u001b[0;32m---> <a href='vscode-notebook-cell:/home/felix/work/metaphor/metaphor-assessment/neural_dj.ipynb#X14sZmlsZQ%3D%3D?line=9'>10</a>\u001b[0m starting_point_url \u001b[39m=\u001b[39m metaphor\u001b[39m.\u001b[39;49msearch(\n\u001b[1;32m     <a href='vscode-notebook-cell:/home/felix/work/metaphor/metaphor-assessment/neural_dj.ipynb#X14sZmlsZQ%3D%3D?line=10'>11</a>\u001b[0m \u001b[39mf\u001b[39;49m\u001b[39m\"\u001b[39;49m\u001b[39m{\u001b[39;49;00mstarting_point\u001b[39m}\u001b[39;49;00m\u001b[39m\"\u001b[39;49m,\n\u001b[1;32m     <a href='vscode-notebook-cell:/home/felix/work/metaphor/metaphor-assessment/neural_dj.ipynb#X14sZmlsZQ%3D%3D?line=11'>12</a>\u001b[0m num_results\u001b[39m=\u001b[39;49m\u001b[39m1\u001b[39;49m,\n\u001b[1;32m     <a href='vscode-notebook-cell:/home/felix/work/metaphor/metaphor-assessment/neural_dj.ipynb#X14sZmlsZQ%3D%3D?line=12'>13</a>\u001b[0m include_domains\u001b[39m=\u001b[39;49mdomains,\n\u001b[1;32m     <a href='vscode-notebook-cell:/home/felix/work/metaphor/metaphor-assessment/neural_dj.ipynb#X14sZmlsZQ%3D%3D?line=13'>14</a>\u001b[0m use_autoprompt\u001b[39m=\u001b[39;49m\u001b[39mTrue\u001b[39;49;00m,\n\u001b[1;32m     <a href='vscode-notebook-cell:/home/felix/work/metaphor/metaphor-assessment/neural_dj.ipynb#X14sZmlsZQ%3D%3D?line=14'>15</a>\u001b[0m \u001b[39mtype\u001b[39;49m\u001b[39m=\u001b[39;49m\u001b[39m\"\u001b[39;49m\u001b[39mkeyword\u001b[39;49m\u001b[39m\"\u001b[39;49m,\n\u001b[1;32m     <a href='vscode-notebook-cell:/home/felix/work/metaphor/metaphor-assessment/neural_dj.ipynb#X14sZmlsZQ%3D%3D?line=15'>16</a>\u001b[0m )\u001b[39m.\u001b[39;49mresults[\u001b[39m0\u001b[39;49m]\u001b[39m.\u001b[39murl\n\u001b[1;32m     <a href='vscode-notebook-cell:/home/felix/work/metaphor/metaphor-assessment/neural_dj.ipynb#X14sZmlsZQ%3D%3D?line=17'>18</a>\u001b[0m url \u001b[39m=\u001b[39m starting_point_url\n\u001b[1;32m     <a href='vscode-notebook-cell:/home/felix/work/metaphor/metaphor-assessment/neural_dj.ipynb#X14sZmlsZQ%3D%3D?line=18'>19</a>\u001b[0m \u001b[39mfor\u001b[39;00m i \u001b[39min\u001b[39;00m \u001b[39mrange\u001b[39m(\u001b[39m5\u001b[39m):\n",
      "\u001b[0;31mIndexError\u001b[0m: list index out of range"
     ]
    }
   ],
   "source": [
    "run_query(\"daft punk - one more time\")"
   ]
  }
 ],
 "metadata": {
  "kernelspec": {
   "display_name": "Python 3",
   "language": "python",
   "name": "python3"
  },
  "language_info": {
   "codemirror_mode": {
    "name": "ipython",
    "version": 3
   },
   "file_extension": ".py",
   "mimetype": "text/x-python",
   "name": "python",
   "nbconvert_exporter": "python",
   "pygments_lexer": "ipython3",
   "version": "3.10.6"
  },
  "orig_nbformat": 4
 },
 "nbformat": 4,
 "nbformat_minor": 2
}
